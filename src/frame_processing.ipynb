{
 "cells": [
  {
   "cell_type": "markdown",
   "metadata": {
    "collapsed": true
   },
   "source": [
    "## Imports"
   ]
  },
  {
   "cell_type": "code",
   "execution_count": null,
   "metadata": {},
   "outputs": [],
   "source": [
    "# Built-in imports\n",
    "import os\n",
    "if sys.version_info[0] < 3:\n",
    "    from Tkinter import Tk\n",
    "    import TkFileDialog as filedialog\n",
    "else:\n",
    "    from Tkinter import Tk\n",
    "    from Tkinter import filedialog\n",
    "\n",
    "# third-party imports\n",
    "import numpy as np  # noqa: E402\n",
    "import matplotlib.pyplot as plt  # noqa: E402\n",
    "import cv2  # noqa: E402\n",
    "\n",
    "# Custom module imports\n",
    "from split_image_into_blocks import split_image_into_blocks  # noqa: E402\n",
    "from process_block_image import process_block_image  # noqa: E402"
   ]
  },
  {
   "cell_type": "markdown",
   "metadata": {},
   "source": [
    "## Get scanned image and split it into blocks"
   ]
  },
  {
   "cell_type": "code",
   "execution_count": null,
   "metadata": {},
   "outputs": [],
   "source": [
    "root = Tk.Tk()\n",
    "root.withdraw()\n",
    "file_path = filedialog.askopenfilename(\n",
    "    initialdir='../../Images/Scanner Images/')\n",
    "base_file = os.path.splitext(file_path)[0]\n",
    "\n",
    "img_list = []\n",
    "block_size = (1024, 1024)\n",
    "status, base_mean = split_image_into_blocks(file_path, img_list, block_size)\n",
    "if len(status) != 0:\n",
    "    print(status)"
   ]
  },
  {
   "cell_type": "markdown",
   "metadata": {},
   "source": [
    "## Process all blocks and display"
   ]
  },
  {
   "cell_type": "code",
   "execution_count": null,
   "metadata": {},
   "outputs": [],
   "source": [
    "counter = 0\n",
    "block_count = 0\n",
    "show_plots = True # Toggle display\n",
    "obj = {'sizes': [], 'detected': []}\n",
    "count_list = []\n",
    "for block_image in img_list:\n",
    "    b_img = block_image.copy()\n",
    "    processed_image, count = process_block_image(b_img, color, count_list,\n",
    "                                                 obj=obj, retr_objects=False)\n",
    "    counter += count\n",
    "    block_count += 1\n",
    "    print(\"Image Block %s Egg count %s\" % (block_count, count))\n",
    "\n",
    "    if show_plots:\n",
    "        plt.subplot(1, 2, 1)\n",
    "        plt.imshow(block_image)\n",
    "        plt.title('Original Image'), plt.xticks([]), plt.yticks([])\n",
    "\n",
    "        plt.subplot(1, 2, 2)\n",
    "        plt.imshow(processed_image)\n",
    "        plt.title('Processed Image'), plt.xticks([]), plt.yticks([])\n",
    "\n",
    "        plt.show()\n",
    "        plt.waitforbuttonpress(timeout=-1)\n",
    "        \n",
    "print(counter)"
   ]
  },
  {
   "cell_type": "markdown",
   "metadata": {},
   "source": [
    "## Detect eggs in a single block"
   ]
  },
  {
   "cell_type": "code",
   "execution_count": null,
   "metadata": {},
   "outputs": [],
   "source": [
    "block_no = 113\n",
    "b_img = img_list[block_no].copy()\n",
    "color = (0, 255, 255)\n",
    "count = 0\n",
    "hsv_low = np.array([140, 135, 155], dtype=np.float32) / 255\n",
    "hsv_high = np.array([165, 255, 225], dtype=np.float32) / 255\n",
    "# base_mean = (0.53, 0.07, 0.88)\n",
    "# b_img = cv2.medianBlur(b_img,5)\n",
    "b_img_hsv = np.float32(cv2.cvtColor(b_img, cv2.COLOR_BGR2HSV))\n",
    "b_img_hsv = b_img_hsv / np.max(b_img_hsv)\n",
    "BW = np.uint8(cv2.split(b_img_hsv)[1] > 0.5)\n",
    "#    b_image = cv2.bitwise_and(b_img,b_img,mask=BW)\n",
    "b_image_hsv = cv2.bitwise_and(b_img_hsv, b_img_hsv, mask=BW)\n",
    "\n",
    "mean = np.round(np.array(cv2.mean(b_img_hsv))[:-1], 3)\n",
    "tolerance_factor = (0.05, 1.5, 7)\n",
    "tolerance = np.array((1 + tolerance_factor * (mean - base_mean) / base_mean),\n",
    "                     dtype=np.float32)\n",
    "# apply the hsv range on a mask\n",
    "mask = cv2.inRange(b_image_hsv, hsv_low, hsv_high)\n",
    "_, contours, _ = cv2.findContours(mask, cv2.RETR_TREE,\n",
    "                                  cv2.CHAIN_APPROX_NONE)\n",
    "area = [cv2.contourArea(cnt) for cnt in contours]\n",
    "for k in np.arange(len(contours)):\n",
    "    cnt = contours[k]\n",
    "    if 40 <= cv2.contourArea(cnt) <= 135:\n",
    "        #        rect = cv2.minAreaRect(cnt)\n",
    "        rect = cv2.minAreaRect(cnt)\n",
    "        (object_w, object_h) = (round(max(rect[1]), 2),\n",
    "                                round(min(rect[1]), 2))\n",
    "        print(k, object_w, object_h, round(object_w / object_h, 2))\n",
    "        if 1.78 <= round(object_w / object_h, 2) <= 3.35 \\\n",
    "                and 12 < object_w < 22:\n",
    "            print(object_w, object_h, round(object_w / object_h, 2))\n",
    "            count += 1\n",
    "    else:\n",
    "        continue"
   ]
  },
  {
   "cell_type": "markdown",
   "metadata": {},
   "source": [
    "## Show original and processed block side by side"
   ]
  },
  {
   "cell_type": "code",
   "execution_count": null,
   "metadata": {},
   "outputs": [],
   "source": [
    "block_no = 113\n",
    "count_list = []\n",
    "show_plots = True\n",
    "b_img = img_list[block_no].copy()\n",
    "obj = {'sizes': [], 'detected': []}\n",
    "processed_image, count = process_block_image(b_img, color, count_list,\n",
    "                                             obj=obj, retr_objects=False)\n",
    "print(\"Egg count %s\" % count)\n",
    "# plt.ioff()\n",
    "\n",
    "if show_plots:\n",
    "    fig = plt.figure(figsize=(8.0, 5.0))\n",
    "    fig.add_subplot(121).imshow(b_img)\n",
    "    fig.add_subplot(121).set_title('Original Image'), plt.xticks(\n",
    "        []), plt.yticks([])\n",
    "    fig.add_subplot(122).imshow(processed_image)\n",
    "    fig.add_subplot(122).set_title('Egg count %s' % count), plt.xticks(\n",
    "        []), plt.yticks([])\n",
    "\n",
    "    fig.show()\n",
    "    try:\n",
    "        fig.waitforbuttonpress(timeout=-1)\n",
    "        base_file = os.path.splitext(file_path)[0]\n",
    "    # fig.savefig(base_file+'1'+'.png', bbox_inches='tight', dpi=200)\n",
    "    except Tk.TclError:\n",
    "        print(\"Program exited\")"
   ]
  }
 ],
 "metadata": {
  "kernelspec": {
   "display_name": "Python 2",
   "language": "python",
   "name": "python2"
  },
  "language_info": {
   "codemirror_mode": {
    "name": "ipython",
    "version": 2
   },
   "file_extension": ".py",
   "mimetype": "text/x-python",
   "name": "python",
   "nbconvert_exporter": "python",
   "pygments_lexer": "ipython2",
   "version": "2.7.6"
  }
 },
 "nbformat": 4,
 "nbformat_minor": 0
}
